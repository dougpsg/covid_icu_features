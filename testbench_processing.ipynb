{
 "cells": [
  {
   "cell_type": "markdown",
   "metadata": {},
   "source": [
    "# Processing"
   ]
  },
  {
   "cell_type": "markdown",
   "metadata": {},
   "source": [
    "## Filter images\n",
    "\n",
    "This pice can be use to filter images from the metadata in Cohen's data set\n",
    "\n",
    "Do not use this part if using the already selected images in the output dir \"..._select_proc\"; just skip to feature extraction"
   ]
  },
  {
   "cell_type": "code",
   "execution_count": null,
   "metadata": {},
   "outputs": [],
   "source": [
    "import filter_images_from_CXR"
   ]
  },
  {
   "cell_type": "code",
   "execution_count": null,
   "metadata": {},
   "outputs": [],
   "source": [
    "metadata_pth = \"./repos/covid-chestxray-dataset/metadata.csv\" # Meta info\n",
    "imageDir = \"./repos/covid-chestxray-dataset/images\" # Directory of images\n",
    "outputDir = './output/filtered_images' # Output directory to store selected images\n",
    "\n",
    "#\"went_icu\" : \"Y\" \n",
    "#\"in_icu\" : \"Y\" \n",
    "#\"finding\": \"COVID-19\"\n",
    "#\"modality\" : \"X-ray\"\n",
    "#\"survival\": \"N\"\n",
    "#\"went_icu\": [\"N\", 'match'],\n",
    "#\"match\" to find the codition, \"exclude\" to avoid\n",
    "conditions = {\"finding\": [\"COVID-19\", 'match'],\n",
    "              \"modality\" : [\"X-ray\", 'match'],\n",
    "              \"went_icu\": [\"N\", 'match'],\n",
    "              \"in_icu\" : [\"N\", 'match'] }\n",
    "\n",
    "\n",
    "save_imgs = True\n",
    "del_files = True\n",
    "\n",
    "\n",
    "filter_images_from_CXR.filter_(conditions, metadata_pth, imageDir, outputDir, save_imgs, del_files)"
   ]
  },
  {
   "cell_type": "markdown",
   "metadata": {},
   "source": [
    "## Segment lungs (Cohen)\n",
    "\n",
    "This piece will call the segmentation network (weights on the root folder) and output the segmented images\n",
    "\n",
    "Do not use this part if using the already selected images in the output dir \"..._select_proc\"; just skip to feature extraction"
   ]
  },
  {
   "cell_type": "code",
   "execution_count": null,
   "metadata": {},
   "outputs": [],
   "source": [
    "import segment_filtered_imgs"
   ]
  },
  {
   "cell_type": "code",
   "execution_count": null,
   "metadata": {
    "scrolled": false
   },
   "outputs": [],
   "source": [
    "model_path = './res_unet_seg.h5'\n",
    "images_path = './output/filtered_images'\n",
    "output_masks_path = './output/masks'\n",
    "output_segmentation_path = \"./output/not_went_icu\"\n",
    "\n",
    "\n",
    "CLAHE_load = False\n",
    "CLAHE_clip_load = 3\n",
    "CLAHE_grid_size_load = 4\n",
    "CLAHE_save = True\n",
    "CLAHE_clip_save = 3\n",
    "CLAHE_grid_size_save = 64\n",
    "\n",
    "\n",
    "segment_filtered_imgs.segment_filtered_images(model_path, images_path, output_masks_path, output_segmentation_path, \n",
    "                                                CLAHE_load, CLAHE_clip_load, CLAHE_grid_size_load, \n",
    "                                                CLAHE_save, CLAHE_clip_save, CLAHE_grid_size_save)"
   ]
  },
  {
   "cell_type": "markdown",
   "metadata": {},
   "source": [
    "## Segment on BIMCV\n",
    "\n",
    "need to invert colors of inverted X-Rays"
   ]
  },
  {
   "cell_type": "code",
   "execution_count": null,
   "metadata": {},
   "outputs": [],
   "source": [
    "import segBIMCV"
   ]
  },
  {
   "cell_type": "code",
   "execution_count": null,
   "metadata": {},
   "outputs": [],
   "source": [
    "model_path = './res_unet_seg.h5'\n",
    "images_path = './datasets/BIMCV_processed/imgs'\n",
    "output_masks_path = './output/masks'\n",
    "output_segmentation_path = \"./output/BIMCV/masked\"\n",
    "\n",
    "\n",
    "CLAHE_load = False\n",
    "CLAHE_clip_load = 3\n",
    "CLAHE_grid_size_load = 4\n",
    "CLAHE_save = True\n",
    "CLAHE_clip_save = 3\n",
    "CLAHE_grid_size_save = 64\n",
    "\n",
    "\n",
    "segBIMCV.segment_filtered_images(model_path, images_path, output_masks_path, output_segmentation_path, \n",
    "                                                CLAHE_load, CLAHE_clip_load, CLAHE_grid_size_load, \n",
    "                                                CLAHE_save, CLAHE_clip_save, CLAHE_grid_size_save)"
   ]
  },
  {
   "cell_type": "markdown",
   "metadata": {},
   "source": [
    "# Augment images"
   ]
  },
  {
   "cell_type": "markdown",
   "metadata": {},
   "source": [
    "Copy selected and processed images to a separate directory and apply augmentations to it"
   ]
  },
  {
   "cell_type": "code",
   "execution_count": 12,
   "metadata": {},
   "outputs": [],
   "source": [
    "import imageio\n",
    "import imgaug as ia\n",
    "import os\n",
    "from imgaug import augmenters as iaa\n",
    "from PIL import Image\n",
    "\n",
    "\n",
    "img_dir = './output/hanno_icu_selected_preproc_aug'\n",
    "\n",
    "img_lst = os.listdir(img_dir)\n",
    "\n",
    "augs = {\n",
    "    'rotate': iaa.Affine(rotate=(-25, 25)),\n",
    "    'pieceaff': iaa.PiecewiseAffine(scale=(0.01, 0.05)),\n",
    "    'translate': iaa.Affine(translate_percent={\"x\": (-0.05, 0.05), \"y\": (-0.05, 0.05)}),\n",
    "    'shear': iaa.Affine(shear=(-10, 10))\n",
    "}\n",
    "\n",
    "reps = 1\n",
    "\n",
    "for img in img_lst:\n",
    "    for aug in augs:\n",
    "        \n",
    "        for rep in range(reps):\n",
    "        \n",
    "            image = imageio.imread(os.path.join(img_dir, img))\n",
    "\n",
    "            image_aug = augs[aug](image=image)\n",
    "\n",
    "            im = Image.fromarray(image_aug)\n",
    "\n",
    "            im.save(os.path.join(img_dir,img[:-4] + '_' + aug + '_' + str(rep) + '.jpg'))\n",
    "        \n",
    "        \n",
    "        \n",
    "        "
   ]
  },
  {
   "cell_type": "markdown",
   "metadata": {},
   "source": [
    "# Extract from last layer"
   ]
  },
  {
   "cell_type": "code",
   "execution_count": 13,
   "metadata": {},
   "outputs": [],
   "source": [
    "import extract_from_last_layer "
   ]
  },
  {
   "cell_type": "markdown",
   "metadata": {},
   "source": [
    "## Extract features"
   ]
  },
  {
   "cell_type": "code",
   "execution_count": 17,
   "metadata": {},
   "outputs": [
    {
     "name": "stdout",
     "output_type": "stream",
     "text": [
      "images processed = 54 / 54\n",
      "shape of features: (54, 18)\n",
      "saved to: ../../.././output/hanno_non_icu_selected_preproc_last.csv\n"
     ]
    }
   ],
   "source": [
    "features_output_path = './output/hanno_non_icu_selected_preproc_last.csv'\n",
    "imgs_path = \"./output/hanno_non_icu_selected_preproc/\"\n",
    "img_id_path = './output/hanno_non_icu_selected_preproc_last.txt'\n",
    "\n",
    "extract_from_last_layer.extract_features(imgs_path,features_output_path,img_id_path)"
   ]
  },
  {
   "cell_type": "code",
   "execution_count": null,
   "metadata": {},
   "outputs": [],
   "source": [
    "#print features names to file\n",
    "\n",
    "output_features_names_pth = './output/features_names.txt'\n",
    "\n",
    "feature_names = {'Atelectasis': 0,\n",
    "                   'Cardiomegaly': 1,\n",
    "                   'Consolidation': 2,\n",
    "                   'Edema': 3,\n",
    "                   'Effusion': 4,\n",
    "                   'Emphysema': 5,\n",
    "                   'Enlarged Cardiomediastinum': 6,\n",
    "                   'Fibrosis': 7,\n",
    "                   'Fracture': 8,\n",
    "                   'Hernia': 9,\n",
    "                   'Infiltration': 10,\n",
    "                   'Lung Lesion': 11,\n",
    "                   'Lung Opacity': 12,\n",
    "                   'Mass': 13,\n",
    "                   'Nodule': 14,\n",
    "                   'Pleural_Thickening': 15,\n",
    "                   'Pneumonia': 16,\n",
    "                   'Pneumothorax': 17}\n",
    "\n",
    "file_features_names = open(output_features_names_pth,'w')\n",
    "for feature_name in feature_names:\n",
    "    file_features_names.write(feature_name)\n",
    "    file_features_names.write('\\n')\n",
    "file_features_names.close()"
   ]
  },
  {
   "cell_type": "markdown",
   "metadata": {},
   "source": [
    "# Extract from mid-layer"
   ]
  },
  {
   "cell_type": "markdown",
   "metadata": {},
   "source": [
    "## Extract features "
   ]
  },
  {
   "cell_type": "code",
   "execution_count": null,
   "metadata": {},
   "outputs": [],
   "source": [
    "import extract_from_mid_layer"
   ]
  },
  {
   "cell_type": "code",
   "execution_count": null,
   "metadata": {},
   "outputs": [],
   "source": [
    "imgs_path = \"./output/not_went_icu_sel_proc_aug/\"\n",
    "features_midlayer_output_path = './output/went_icu_sel_proc_aug_mid.csv'\n",
    "\n",
    "extract_from_mid_layer.extract_features(imgs_path,features_midlayer_output_path)"
   ]
  },
  {
   "cell_type": "markdown",
   "metadata": {},
   "source": [
    "## Extract heatmaps"
   ]
  },
  {
   "cell_type": "code",
   "execution_count": null,
   "metadata": {},
   "outputs": [],
   "source": [
    "# imgs_path_dic = {'pth1': \"../../output/covid_not_icu_images/\",\n",
    "#                  'pth2': \"../../output/covid_icu_images/\"\n",
    "#                 }\n",
    "# saliency_path_dic = {'pth1': \"../../output/heatmaps1/\",\n",
    "#                      'pth2': \"../../output/heatmaps2/\"\n",
    "#                     }\n",
    "\n",
    "# which_feature = 4\n",
    "# gaussian_filter_size = 4\n",
    "\n",
    "# extract_from_last_layer.extract_heatmap(imgs_path_dic, saliency_path_dic, which_feature, gaussian_filter_size)"
   ]
  },
  {
   "cell_type": "markdown",
   "metadata": {},
   "source": [
    "## Extract features from heatmaps"
   ]
  },
  {
   "cell_type": "code",
   "execution_count": null,
   "metadata": {},
   "outputs": [],
   "source": [
    "import heatmap_features"
   ]
  },
  {
   "cell_type": "code",
   "execution_count": null,
   "metadata": {},
   "outputs": [],
   "source": [
    "features_name = {'Atelectasis': 0,\n",
    "                   'Cardiomegaly': 1,\n",
    "                   'Consolidation': 2,\n",
    "                   'Edema': 3,\n",
    "                   'Effusion': 4,\n",
    "                   'Emphysema': 5,\n",
    "                   'Enlarged Cardiomediastinum': 6,\n",
    "                   'Fibrosis': 7,\n",
    "                   'Fracture': 8,\n",
    "                   'Hernia': 9,\n",
    "                   'Infiltration': 10,\n",
    "                   'Lung Lesion': 11,\n",
    "                   'Lung Opacity': 12,\n",
    "                   'Mass': 13,\n",
    "                   'Nodule': 14,\n",
    "                   'Pleural_Thickening': 15,\n",
    "                   'Pneumonia': 16,\n",
    "                   'Pneumothorax': 17}\n",
    "\n",
    "sub_features_name = {'whole_image_entropy': 0,\n",
    "                   'whole_image_energy': 1,\n",
    "                   'long1_entropy': 2,\n",
    "                   'long1_energy': 3,\n",
    "                   'long2_entropy': 4,\n",
    "                   'long2_energy': 5,\n",
    "                   'trans1_entropy': 6,\n",
    "                   'trans1_energy': 7,\n",
    "                   'trans2_entropy': 8,\n",
    "                   'trans2_energy': 9,\n",
    "                   'quad1_entropy': 10,\n",
    "                   'quad1_energy': 11,\n",
    "                   'quad2_entropy': 12,\n",
    "                   'quad2_energy': 13,\n",
    "                   'quad3_entropy': 14,\n",
    "                   'quad3_energy': 15,\n",
    "                   'quad4_entropy': 16,\n",
    "                   'quad4_energy': 17,\n",
    "                   'quad5_entropy': 18,\n",
    "                   'quad5_energy': 19,\n",
    "                   'quad6_entropy': 20,\n",
    "                   'quad6_energy': 21}"
   ]
  },
  {
   "cell_type": "code",
   "execution_count": null,
   "metadata": {},
   "outputs": [],
   "source": [
    "# #Print feature names to get later after fitting tree\n",
    "\n",
    "features_names = []\n",
    "for i in range(len(features_name)):\n",
    "    for j in range(len(sub_features_name)):\n",
    "        features_names.append(list(features_name.keys())[i] + '_' + list(sub_features_name.keys())[j])\n",
    "\n",
    "\n",
    "output_features_names_pth = './output/features_names_heatmap.txt'\n",
    "file_features_names = open(output_features_names_pth,'w+')\n",
    "\n",
    "for name in features_names:\n",
    "    file_features_names.write(name)\n",
    "    file_features_names.write('\\n')\n",
    "file_features_names.close()"
   ]
  },
  {
   "cell_type": "code",
   "execution_count": null,
   "metadata": {},
   "outputs": [],
   "source": [
    "imgs_path = \"./output/not_went_icu_sel_proc_aug/\"\n",
    "heatmap_features_output_path = './output/not_went_icu_sel_proc_aug_heatmap.csv'\n",
    "\n",
    "sigma_ = 16\n",
    "truncate_ = 3.5\n",
    "\n",
    "heatmap_features.extract_heatmap_features(features_name, sub_features_name, imgs_path, heatmap_features_output_path, sigma_, truncate_)"
   ]
  }
 ],
 "metadata": {
  "kernelspec": {
   "display_name": "Python 3",
   "language": "python",
   "name": "python3"
  },
  "language_info": {
   "codemirror_mode": {
    "name": "ipython",
    "version": 3
   },
   "file_extension": ".py",
   "mimetype": "text/x-python",
   "name": "python",
   "nbconvert_exporter": "python",
   "pygments_lexer": "ipython3",
   "version": "3.8.5"
  }
 },
 "nbformat": 4,
 "nbformat_minor": 4
}
